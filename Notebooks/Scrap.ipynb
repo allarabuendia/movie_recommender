{
 "cells": [
  {
   "cell_type": "code",
   "execution_count": 7,
   "metadata": {},
   "outputs": [],
   "source": [
    "from selenium import webdriver\n",
    "import pickle\n",
    "import pandas as pd"
   ]
  },
  {
   "cell_type": "code",
   "execution_count": 8,
   "metadata": {},
   "outputs": [],
   "source": [
    "#EMOCIONANTES"
   ]
  },
  {
   "cell_type": "code",
   "execution_count": 9,
   "metadata": {},
   "outputs": [],
   "source": [
    "#Empiezo a hacer scrap en filmafinity\n",
    "\n",
    "driver = r\"C:\\\\Users\\\\alber\\\\Downloads\\\\chromedriver_win32\\\\chromedriver.exe\"\n",
    "url = 'https://www.filmaffinity.com'\n",
    "# Initializing the webdriver\n",
    "options = webdriver.ChromeOptions()\n",
    "#options.add_argument('headless')\n",
    "\n",
    "driver = webdriver.Chrome(executable_path=driver, options=options)"
   ]
  },
  {
   "cell_type": "code",
   "execution_count": 10,
   "metadata": {},
   "outputs": [],
   "source": [
    "#Emocionantes\n",
    "#Abro el listado de las peliculas mas emocionantes, clkikeo el pop up y busco los titulos\n",
    "\n",
    "url = 'https://www.filmaffinity.com/us/listtopmovies.php?list_id=620'\n",
    "driver.get(url)\n",
    "boton = driver.find_element_by_xpath('/html/body/div[1]/div/div/div/div[2]/div/button[2]')\n",
    "boton.click()\n",
    "titulos = driver.find_elements_by_class_name('mc-title')        "
   ]
  },
  {
   "cell_type": "code",
   "execution_count": 11,
   "metadata": {},
   "outputs": [],
   "source": [
    "# Hago un bucle para listar los links de cada pelicula\n",
    "\n",
    "lista_titulos = []\n",
    "\n",
    "for peli in titulos:\n",
    "    lista_titulos.append(peli.find_element_by_tag_name('a').get_attribute('href'))"
   ]
  },
  {
   "cell_type": "code",
   "execution_count": 12,
   "metadata": {},
   "outputs": [],
   "source": [
    "# Meto en una lista todas las sinopsis emocionantes\n",
    "\n",
    "sinopsis_emocionantes = []\n",
    "\n",
    "for url in lista_titulos:\n",
    "    try:\n",
    "        driver.get(url)\n",
    "        sinopsis =  driver.find_element_by_xpath('/html/body/div[4]/table/tbody/tr/td[2]/div[1]/div[4]/div/div[3]/dl[1]/dd[12]')\n",
    "        sinopsis = sinopsis.text\n",
    "        sinopsis_emocionantes.append(sinopsis)\n",
    "    except: 'NoSuchElementException'\n",
    "    "
   ]
  },
  {
   "cell_type": "code",
   "execution_count": 13,
   "metadata": {},
   "outputs": [
    {
     "data": {
      "text/plain": [
       "99"
      ]
     },
     "execution_count": 13,
     "metadata": {},
     "output_type": "execute_result"
    }
   ],
   "source": [
    "len(sinopsis_emocionantes)"
   ]
  },
  {
   "cell_type": "code",
   "execution_count": 14,
   "metadata": {},
   "outputs": [
    {
     "data": {
      "text/plain": [
       "[\"Guido - a charming but bumbling waiter who's gifted with a colourful imagination and an irresistible sense of humour - has won the heart of the woman he loves and has created a beautiful life for his young family. But then, that life is threatened by World War II and Guido must rely on those very same strengths to save his beloved wife and son from an unthinkable fate.\",\n",
       " \"Oskar Schindler is a German businessman in Poland who sees an opportunity to make money from the Nazis' rise to power. He starts a company to make cookware and utensils, using flattery and bribes to win military contracts, and brings in accountant and financier Itzhak Stern (Ben Kingsley) to help run the factory. By staffing his plant with Jews who've been herded into Krakow's ghetto by Nazi troops, Schindler has a dependable unpaid labor force. For Stern, a job in a war-related plant could mean survival for himself and the other Jews working for Schindler. However, in 1942, all of Krakow's Jews are assigned to the Plaszow Forced Labor Camp, overseen by Commandant Amon Goeth (Ralph Fiennes), an embittered alcoholic who occasionally shoots prisoners from his balcony. Schindler arranges to continue using Polish Jews in his plant, but, as he sees what is happening to his employees, he begins to develop a conscience. He realizes that his factory (now refitted to manufacture ammunition) is the only thing preventing his staff from being shipped to the death camps. Soon Schindler demands more workers and starts bribing Nazi leaders to keep Jews on his employee lists and out of the camps. By the time Germany falls to the allies, Schindler has lost his entire fortune — and saved 1,100 people from likely death.\",\n",
       " 'Despite Forrest\\'s (Tom Hanks) low IQ, he is not your average guy. Learning early on from his mother (Sally Field) that \"life is like a box of chocolates, you never know what you\\'re gonna get\", Gump, without trying, stumbles upon some exciting events. Meanwhile, as the remarkable parade of his life goes by, Forrest never forgets Jenny (Robin Wright), the girl he loved as a boy, who makes her own journey through the turbulence of the 1960s and 1970s that is far more troubled than the path Forrest happens upon.',\n",
       " 'After winning a trip on the Titanic during a dockside card game, American Jack Dawson spots the society girl Rose DeWitt Bukater who is on her way to Philadelphia to marry her rich snob fiance Cal Hockley. Rose feels helplessly trapped by her situation and makes her way to the aft deck and thinks of suicide until she is rescued by Jack. Cal is therefore obliged to invite Jack to dine at their first-class table where he suffers through the slights of his snobbish hosts. In return, he spirits Rose off to third class for an evening of dancing, giving her the time of her life. Deciding to forsake her intended future all together, Rose asks Jack, who has made his living making sketches on the streets of Paris, to draw her in the nude wearing the invaluable blue diamond Cal has given her. Cal finds out and has Jack locked away. Soon afterwards, the ship hits an iceberg and Rose must find Jack while both must run from Cal even as the ship sinks deeper into the freezing water.',\n",
       " 'A young boy named Salvatore in a small Italian village is overjoyed when the local movie projectionist (Philippe Noiret) reveals to him the mysteries of moviemaking, beginning his lifelong love affair with cinema.',\n",
       " \"Frankie Dunn (Clint Eastwood) has trained and managed some incredible fighters during a lifetime spent in the ring. The most important lesson he teaches his boxers is the one that rules his life: above all, always protect yourself. In the wake of a painful estrangement from his daughter, Frankie has been unwilling to let himself get close to anyone for a very long time. His only friend is Scrap (Morgan Freeman), an ex-boxer who looks after Frankie's gym and knows that beneath his gruff exterior is a man who has attended Mass almost every day for the past 23 years, seeking the forgiveness that somehow continues to elude him. Then, one day, a girl named Maggie Fitzgerald (Hilary Swank) approaches Frankie Dunn and asks him to train her.\",\n",
       " 'Nicholas Sparks Adaptations',\n",
       " 'Edward Bloom (Finney) has always been a teller of tall tales about his oversized life as a young man (Ewan McGregor), when his wanderlust led him on an unlikely journey from small town in Alabama, around the world, and back again. His mythic exploits dart from the delightful to the delirious as he weaves epic tales about giants, blizzards, a witch and conjoined-twin lounge singers. With his larger-than-life stories, Bloom charms almost everyone he encounters except for his estranged son Will (Billy Crudup). When his mother Sandra (Jessica Lange) tries to reunite them, Will must learn how to separate fact from fiction as he comes to terms with his father’s great feats and great failings.',\n",
       " 'Pixar (Films)',\n",
       " \"A drama based on the true story of a college professor's bond with the abandoned dog he takes into his home. This heartwarming true story is an American adaptation of a Japanese tale about a loyal Akita dog named Hachiko. This very special friend would accompany his master to the train station every day and return each afternoon to greet him after work. During his daily visits, Hachiko touches the lives of many who work near and commute through the town square. He teaches the local people love, compassion and above all unyielding loyalty. Today, a bronze statue of Hachiko sits in his waiting spot outside the Shibuya station in Japan as a permanent reminder of his devotion and love.\",\n",
       " 'Chris Gardner (Will Smith) is a family man struggling to make ends meet. Despite his valiant attempts to help keep the family afloat, the mother (Thandie Newton) of his five-year-old son Christopher (Jaden Christopher Syre Smith) is buckling under the constant strain of financial pressure. No longer able to cope, she reluctantly decides to leave. Chris, now a single father, continues to doggedly pursue a better-paying job using every sales skill he knows. He lands an internship at a prestigious stock brokerage firm, and although there is no salary, he accepts, hopeful he will end the program with a job and a promising future. Without a financial cushion, Chris and his son are soon evicted from their apartment and forced to sleep in shelters, bus stations, bathrooms or wherever they can find refuge for the night.\\n\\nDespite his troubles, Chris continues to honor his commitment as a loving and caring father, using the affection and trust his son has placed in him as an impetus to overcome the obstacles he faces.\\n\\nUS release date: 15 december 2006.',\n",
       " 'Stephen King Adaptations',\n",
       " 'Walt Disney’s Full-Length Animated Classics | The Lion King',\n",
       " \"The path of Francesca Johnson's future seems destined when an unexpected fork in the road causes her to question everything she had come to expect from life. While her husband and children are away at the Illinois state fair in the summer of 1965, Robert Kincaid happens turn into the Johnson farm and asks Francesca for directions to Roseman Bridge. Francesca later learns that he was in Iowa on assignment from National Geographic magazine. She is reluctant seeing that he's a complete stranger and then she agrees to show him to the bridges and gradually she talks about her life from being a war-bride from Italy which sets the pace for this bittersweet and all-too-brief romance of her life. Through the pain of separation from her secret love and the stark isolation she feels as the details of her life consume her, she writes her thoughts of the four-day love affair which took up three journals. The journals are found by her children after the lawyer was going over Francesca's will and ...\",\n",
       " 'Stephen King Adaptations',\n",
       " 'The film is adapted from the autobiography of Wladyslaw Szpilman, a Polish Jew who detailed his survival during World War II. A composer and a pianist, he played the last live music heard over Polish radio airwaves before Nazi artillery hit. During the brutal occupation, he eluded deportation and remained in the devastated Warsaw ghetto. There, he struggled to stay alive even when cast away from those he loved. He would eventually reclaim his artistic gifts and confront his fears, with aid from the unlikeliest of sources.',\n",
       " 'Toy Story | Pixar (Films)',\n",
       " \"Based on the life of legendary 13th century Scottish hero William Wallace. Returning to his homeland following the death of an heirless king, Wallace (Mel Gibson) finds the political landscape precarious. Edward the Longshanks, King of England (Patrick McGoohan), has captured Scotland's throne and threatens the freedom of all Scottish people, as tyrannical policies instituted by the English plague the Scots. Initially, Wallace is content to stand by the wayside, yearning for the simple life of building a home and raising a family. However, when the woman he loves (Sophie Marceau) suffers a cruel fate at the hands of English soldiers, Wallace takes a stand against the new rule. With his fierce patriotism and determination, he gathers an amateur but passionately rebellious army. Although this makeshift force may be outnumbered by the English troops, their desperation and love for their land surpass any military maneuvers.\",\n",
       " \"Maximus (Crowe) is a brave and loyal military general to the Emperor Marcus Aurelius (Harris). His loyalty does not go unnoticed as the Emperor makes preparations for Maximus to succeed him after his death. But when the Emperor's son, Commodus (Phoenix) finds out, he kills his father and orders the death of Maximus. While he escapes, his wife and son are brutally murdered. He then ends up a slave in North Africa and is sold to become a gladiator. Trained by Proximo (Reed), a former gladiator himself, Maximus wins every battle and soon finds himself sent to Rome to take part in the Gladitorial Games. It is here that he plans to plot his vengeance and gain his freedom. While all this is going on, his past lover, the Emperor's daughter (Nielsen) works to restore democratic rule with the help of a civil-minded senator (Jacobi).\",\n",
       " 'In Tim Burtons EDWARD SCISSORHANDS, an Avon lady, Peg Boggs (Dianne Wiest), discovers the half-finished experiment--a man/monster named Edward (Johnny Depp)--of a mad scientist (Vincent Price) living in the neighborhoods old abandoned castle. The scientist died before replacing the shy mans large shears with real hands. When Peg attempts to bring Edward into her suburban world, to live among her skeptical family (husband Alan Arkin and daughter Winona Ryder) and gossipy neighbors, his hands--dangerous yet capable of creating things of great beauty--make for some awkward, funny, and poignant situations: Edward as a topiary gardener, Edward as a cutting-edge hair stylist.',\n",
       " 'Painfully shy Todd Anderson has been sent to the school where his popular older brother was valedictorian. His room-mate, Neil, although exceedingly bright and popular, is very much under the thumb of his overbearing father. The two, along with their other friends, meet Professor Keating, their new English teacher, who tells them of the Dead Poets Society, and encourages them to go against the status quo. Each, in their own way, does this, and are changed for life.',\n",
       " 'Animation. Drama. War | II World War. Childhood. Family Relationships. Adult Animation. Cult Movie',\n",
       " \"E.T. THE EXTRA-TERRESTRIAL is Steven Spielberg's warmhearted classic delight for both children and adults. It tells the story of an alien creature, E.T., mistakenly left behind on Earth. When a young boy, Elliott (Henry Thomas), finds E.T. and hides him in his home, both their worlds are changed forever. E.T. teaches Elliott and his two siblings (Drew Barrymore and Robert MacNaughton), whose parents have recently separated, about caring and love while the children protect E.T. from the malevolent world of grown-ups. Elliott and E.T. become so close that they share emotions; as E.T. becomes ill, so does Elliott. The children end up going on a fabulous adventure trying to help E.T. find a way back to his home planet. The movie was originally going to be based on a story idea by director John Sayles, but after he removed himself from the project, screenwriter Melissa Mathison (Harrison Ford’s wife at that time) took over the script and made it her own. John Williams’s beautiful soundtrack became forever linked to E.T. THE EXTRA-TERRESTRIAL.\",\n",
       " \"Recently widowed, retired auto worker Walt Kowalski fills his days with home repair, beer and monthly trips to the barber. The people he once called his neighbors have all moved or passed away, replaced by Hmong immigrants, from Southeast Asia, he despises. Resentful of virtually everything he sees--Walt is just waiting out the rest of his life. Until the night someone tries to steal his `72 Gran Torino. The Gran Torino brings his shy teenaged neighbor Thao into his life when Hmong gangbangers pressure the boy into trying to steal it. But Walt stands in the way of both the heist and the gang, making him the reluctant hero of the neighborhood--especially to Thao's mother and older sister, Sue, who insist that Thao work for Walt as a way to make amends. Though he initially wants nothing to do with these people, Walt eventually gives in and puts the boy to work fixing up the neighborhood, setting into motion an unlikely friendship that will change both their lives.\",\n",
       " 'After a paragliding accident, Philippe, a rich aristocrat, is confined to his home. He employs Driss as home help. Driss is a young guy from the projects recently out of prison. In short, the person the least adapted for the job. Vivaldi and Earth, Wind and Fire, fine language and slang, suits and jogging outfits come together and a clash is inevitable. Two worlds collide and win each other over to give birth to a friendship as crazy, funny, and fierce as it is unexpected. A unique relationship that will make sparks fly and render Philippe and Driss untouchable.',\n",
       " 'Inspired by a real recent event, Camino is an emotional adventure about a brilliant eleven-year-old girl (Nerea Camacho) who must simultaneously face two completely new events in her life - falling in love and dying. Above all, Camino is a bright light that manages to shine though every one of the dark doors that try to stifle her desire to live, love and seek ultimate happiness.\\n\\nCamino is the third feature film by Oscar nominee Javier Fesser. Director, screenwriter and producer, Javier Fesser’s earlier features are El milagro de P. Tinto (1998) and La gran aventura de Mortadelo y Filemón (2003). He is also the author of a number of international prizewinning shorts. With Camino Fesser brings us a new type of film, a blend of family drama, magic tale and religious fervor.',\n",
       " 'The Red Curtain Trilogy',\n",
       " 'The emotional story of a man who will change the lives of seven strangers. A suicidal IRS Agent (Will Smith) sets out to make amends but inadvertently falls in love thereby complicating his plans. Ben Thomas (Will Smith) is an IRS agent who is depressed and guilt-ridden about mistakes from his past. He sets out to make amends by helping seven strangers. When he meets Emily (Rosario Dawson), a beautiful woman with a heart condition, he falls in love with her, thereby complicating his plans.',\n",
       " 'Derek Vinyard (Edward Norton) is a Southern Californian skinhead who must do time after committing a hateful murder. Once in jail, his mind opens and he sees the error of his ways. Upon reentering the real world, he must now turn his attentions to his younger brother Danny (Edward Furlong), who is swiftly heading down the same path as his brother.',\n",
       " 'The Lord of the Rings',\n",
       " 'A good but slightly ineffectual man tries to off himself after an error that really wasnt his fault. In Christmas carol fashion, his crusty-but-lovable guardian angel shows up to give him a tour of the world without his presence, and it isnt a pretty place. Moral courage, small-town American life, civic cooperation, and family love are glorified; corporate greed and self-involvement are vilified; at the climax, a blanket of snow like spun sugar makes everything pure and clean like redemption itself.',\n",
       " 'After renovating their expensive loft in the TriBeCa section of Manhattan, Molly and Sam, a young successful yuppie couple, are walking home one evening when Sam is tragically gunned down by a street mugger. Molly goes into a deep depression, but, unknown to her, Sam has come back as a ghost in order to protect her from danger--although he isnt yet aware who or what means her harm, and he has a lot of learning to do in order to make himself known to her. He teams up with an unwilling psychic, and together they try to convince a very skeptical Molly that Sam was actually murdered and has returned spectrally to complete some unfinished business.',\n",
       " 'F. Scott Fitzgerald Adaptations',\n",
       " \"Ann (Polley) is a hard working 23-year-old mother with two young daughters, a husband (Speedman) who spends more time unemployed than working, a mother (Harry) with a history of broken dreams and a father who has spent the last ten years in jail. She spends her nights working as a janitor in a university and lives with her family in a tiny trailer in her mother's backyard. After collapsing one day, Ann goes in for a medical check-up and receives some shocking news. Determined to shield her daughters from the truth and at the same time to take control of her life and to make the most out of it, Ann tells everyone her weak pallor is due to a case of anemia, but privately, she makes a list of things she had always wanted to accomplish. Suddenly, Ann's life opens up, and the life force that was nascent in this working-class woman blooms into a quiet yet steely determination.\",\n",
       " 'This work was set in Berlin, 1942. When the young eight-year-old Bruno (Asa Butterfield) returns home from school one day, he discovers that his belongings are being packed in crates. His father has received a promotion and the family must move from their home to a new house far far away, where there is no one to play with and nothing to do. A tall fence running alongside stretches as far as the eye can see and cuts him off from the strange people he can see in the distance. But, Bruno longs to be an explorer and decides that there must be more to this desolate new place than what meets the eye. While exploring his new environment, he meets another boy whose life and circumstances are very different to his own, and their meeting results in a friendship that has devastating consequences.',\n",
       " 'Pixar (Films)',\n",
       " \"Sam Dawson (Sean Penn) is a developmentally disabled adult who has been singularly raising his daughter, Lucy for all of her seven years. Sam provides a fun and loving environment for Lucy, but it soon becomes apparent that she is intellectually surpassing him. When she begins intentionally stunting her own growth so as not to hurt her beloved father, a social worker intervenes, removing Lucy from her home and placing her in foster care. It is now up to the courts to decide if Sam is fit to continue raising Lucy. As the day of the hearing looms, Sam seeks the aid of self-absorbed, successful lawyer Rita Harrison (Michelle Pfeiffer), who only agrees to take on Sam's case free of charge to save face with her colleagues. And so it begins: a battle of love versus ability, the individual against an unbending system. In the centre remains a father and daughter who just want to be together.\",\n",
       " 'A tale of magic and fantasy inspired by the life of James Barrie, the real-life author of the children\\'s classic \"Peter Pan\". Set in London in 1904, the film follows Barrie\\'s creative journey to bring Peter Pan to life, from his first inspiration for the story up until the play\\'s premiere at the Duke of York\\'s Theatre--a night that will change not only Barrie\\'s own life, but the lives of everyone close to him.\\nThe successful Scottish playwright James M Barrie is a literary genius of his times but bored by the same old themes. Unexpectedly, he finds some inspiration during his daily walk in London’s Kensington Gardens. There, Barrie encounters the Llewelyn Davies family: four fatherless boys and their beautiful mother. Despite the disapproval of the boys’ grandmother and the resentment of his own wife, Barrie befriends the family. He transforms the boys into “The Lost Boys of Neverland”. From the sheer thrills and adventurousness of childhood will come Barrie’s most renowned masterwork, Peter Pan. At first, his theatrical company is sceptical but Barrie begins rehearsals only to shock his actors with such unprecedented requests. Then, a tragic twist of fate will make the writer and those he loves most understand just what it means to really believe.',\n",
       " \"Bursting with imagination and having seen her share of tragedy and fantasy, Amelie (Audrey Tautou) is not like the other girls. When she grows up she becomes a waitress in a Montmartre bar run by a former dancer. Amelie enjoys simple pleasures until she discovers that her goal in life is to help others. To that end, she invents all sorts of tricks that allow her to intervene incognito into other people's lives, including an imbibing concierge and her hypochondriac neighbor. But Amelie's most difficult case turns out to be Nino Quicampoix, a lonely sex shop employee who collects photos abandoned at coin-operated photobooths.\",\n",
       " 'Nicholas Sparks Adaptations',\n",
       " 'Set in 1948, a professor of music, Clement Mathieu, becomes the supervisor at a boarding school for the rehabilitation for minors. What he discovers disconcerts him--the current situation is repressive. Through the power of song, Clement will try to transform the students.',\n",
       " 'The story of two young men, Ennis del Mar and Jack Twist, a Wyoming ranch hand and a rodeo cowboy, who meet in the summer of 1963 sheepherding in the harsh, high grasslands of contemporary Wyoming and form an unorthodox yet life-long bond--by turns ecstatic, bitter and conflicted.',\n",
       " \"Ramon Sampedro has been laid up in bed for thirty years, being taken care of by his family. His bedroom window is his only window to the world, overlooking the sea he so often sailed; that sea where he suffered the accident that curtailed his youth. Since then, his only wish has been to bring his life to a dignified end. His world is turned upside down by the arrival of two women: Julia, the lawyer who supports him in his struggle to end his life as he sees fit, and Rosa, a woman from the village, who tries to convince him that it is worth carrying on living after all. Both women are overwhelmed by Ramon's captivating personality, and are forced to question all the principles which have governed their lives thus far. Ramon knows that only someone who really loves him will help him undertake his ultimate journey. A movie about terminal illness.\",\n",
       " \"Joel (Jim Carrey) is stunned to discover that his girlfriend Clementine (Kate Winslet) has had her memories of their tumultuous relationship erased. Out of desperation, he contacts the inventor of the process, Dr. Howard Mierzwiak (Tom Wilkinson), to have Clementine removed from his own memory. But as Joel's memories progressively disappear, he begins to rediscover his love for Clementine. From deep within the recesses of his brain, Joel attempts to escape the procedure. As Dr. Mierzwiak and his crew (Kirsten Dunst, Mark Ruffalo, Elijah Wood) chase him through the maze of his memories, it's clear that Joel just can't get Clementine out of his head.\",\n",
       " 'December 2004. The lives of María (Naomi Watts), Henry (Ewan McGregor) and their three small children who are spending their quiet holidays in Thailand turn into a nightmare when a huge tsunami engulfs the grounds of their hotel.',\n",
       " 'Pixar (Films)',\n",
       " 'Obsessed with finding a truly original mathematical idea, the brilliant student John Forbes Nash (Russell Crowe) arrives at Princeton in 1947 for graduate study – as an outsider, a loner, a bit of an oddity. In a bar one night with his peers and contemplating a group of girls led by a tall blonde, the kernel of his theory on the mathematics of competition bursts forth. In contradiction of the eminent Adam Smith, Nash nonethless sticks with it and lands a coveted senior post at MIT. Here, he becomes a willing recruit as a top secret code breaker, under the control of shadowy William Parcher (Ed Harris). It is also here that he meets Alicia Larde (Jennifer Connelly) and discovers that the laws of maths are but nothing to the laws of love. His secret code breaking task takes a heavy toll, and when he is diagnosed with schizophrenia, Nash seems destroyed personally and professionally.',\n",
       " 'Golden Heart Trilogy',\n",
       " \"Based on Gerry Conlon's autobiography, 'Proved Innocent', Jim Sheridan's 'In the Name of the Father' tells the story of a man wrongfully imprisoned in 1974 for the bombing of a London pub. Daniel Day-Lewis stars as Conlon, a young Irish petty thief living in London who gets picked up after he and a friend, Paul Hill (John Lynch), rob a hooker's apartment. The British police, desperate to produce results in their search for the culprits in the pub bombing, force a false confession out of Conlon after subjecting him to days of sadistic torture and threats. The Guildford Four--Conlon, Hill, Paddy Armstrong (Mark Sheppard), and Carole Richardson (Beatie Edney)--are found guilty of the bombing, and members of Conlon's family, including his sickly father, Guiseppe, are imprisoned as co-conspirators. Conlon's desire to bring the truth to light builds as his harrowing incarceration in a maximum security prison stretches on.\",\n",
       " 'John Merrick (John Hurt) is a hideously deformed individual dubbed the Elephant Man during his years in a circus freak show in Victorian England. After suffering for years at the hands of his circus \"master\", the eloquent, soft spoken Merrick is \"rescued\" by compassionate surgeon Dr. Frederick Treves (Anthony Hopkins), who allows him to live at the hospital where he works. Merrick becomes a social celebrity when he meets a popular stage performer (Anne Bancroft), but he must continue to fight for his dignity with those who still choose to view him as a freak.',\n",
       " \"In the near future Earth has been devastated by drought and famine, causing a scarcity in food and extreme changes in climate. When humanity is facing extinction, a mysterious rip in the space-time continuum is discovered, giving mankind the opportunity to widen their lifespan. A group of explorers must travel beyond our solar system in search of a planet that can sustain life. The crew of the Endurance are required to think bigger and go further than any human in history as they embark on an interstellar voyage, into the unknown. However, through the wormhole, one hour is the equivalent of seven years back on Earth, so the mission won't work if the people on Earth are dead by the time they pull it off. And Coop, the pilot of the Endurance, must decide between seeing his children again and the future of the human race.\",\n",
       " \"A misbehaved con named McMurphy (Jack Nicholson), who shirks authority, finds himself in an asylum after faking insanity to get out of work detail in prison. The troublemaker soon finds himself in a place that's worse than prison when he meets Nurse Ratched (Louise Fletcher), whose set of rules and regulations are meant to suppress patients' psychotic outbursts, and their spirits. It's not long before McMurphy is reaching out to his new inmates, trying desperately to bring life to an otherwise dead atmosphere and pit them against the dictatorship of Ratched, who thinks McMurphy's free spirit is as dangerous as a schizophrenic impulse.\",\n",
       " \"At age 42, Rafael Belvedere is having a crisis. He's overwhelmed by his responsibilities and just isn't having any fun. He has spent most of his life frantically trying to run the restaurant his father Nino founded. He has achieved success, but continues to live in the old man's shadow. He rarely visits his aging mother Nora. His ex-wife is bitter towards him because he doesn't spend enough time with their daughter. And finally, Rafael is too self-involved to make a commitment to his girlfriend Nati. Just when Rafael feels most alone, a series of unexpected events lead him to reevaluate his life. A minor heart attack forces him to slow down and a reunion with Juan Carlos, a childhood friend, helps Rafael to reconstruct his past and look at the present in new ways. Most importantly, when his father makes the decision to fulfill his mother's dream of getting married in a church, it gives Rafael a task to focus on, bringing the family together to create a new memory they can share.\",\n",
       " '\"Slumdog Millionaire\" is the story of Jamal Malik (Dev Patel), an 18 year-old orphan from the slums of Mumbai, who is about to experience the biggest day of his life. With the whole nation watching, he is just one question away from winning a staggering 20 million rupees on India’s \"Who Wants To Be A Millionaire?\". But when the show breaks for the night, police arrest him on suspicion of cheating; how could a street kid know so much? Desperate to prove his innocence, Jamal tells the story of his life in the slum where he and his brother grew up.',\n",
       " 'Freshly graduated from college and with a promising future ahead, 22-year-old Christopher McCandless chose instead to walk out of his privileged life and into the wild in search of adventure. Christopher abandoned his possessions, gave his $24,000 savings account to charity and hitchhiked to Alaska to live in the wilderness. What happened to him on the way transformed this young wanderer into an enduring symbol for countless people. Was Christopher a heroic adventurer or a naïve idealist, a rebellious 1990s Thoreau or another lost American son, a fearless risk-taker or a tragic figure who wrestled with the precarious balance between man and nature? Based on a true story and the bestselling book by Jon Krakauer.',\n",
       " 'Mia, a young aspiring actress, serves lattes to movie stars in between auditions and Sebastian, a jazz musician, scrapes by playing cocktail party gigs in dingy bars, but as success mounts they are faced with decisions that begin to fray the fragile fabric of their love affair, and the dreams they worked so hard to maintain in each other threaten to rip them apart.',\n",
       " \"Issues of race and gender cause a group of strangers in Los Angeles to physically and emotionally collide in this PowerBuilder drama. Graham (Don Cheadle) is a police detective whose brother is a street criminal, and it hurts him to know his mother cares more about his ne'er-do-well brother than him. Graham's partner is Ria (Jennifer Esposito), who is also his girlfriend, though she has begun to bristle at his emotional distance, as well as his occasional insensitivity over the fact he's African-American and she's Hispanic. Rick (Brendan Fraser) is an L.A. district attorney whose wife, Jean (Sandra Bullock), makes little secret of her fear and hatred of people unlike herself. Jean's worst imaginings about people of color are confirmed when her SUV is carjacked by two African-American men -- Anthony (Ludacris), who dislikes white people as much as Jean hates blacks, and Peter (Larenz Tate), who is more open minded. Cameron (Terrence Howard) is a well-to-do African-American television producer with a beautiful wife, Christine (Thandie Newton). While coming home from a party, Cameron and Christine are pulled over by Officer Ryan (Matt Dillon), who subjects them to a humiliating interrogation while his new partner, Officer Hansen (Ryan Phillippe), looks on. Daniel (Michael Pena) is a hard-working locksmith and dedicated father who discovers that his looks don't lead many of his customers to trust him. And Farhad (Shaun Toub) is a Middle Eastern shopkeeper who is so constantly threatened in the wake of the 9/11 attacks that he decided he needs a gun to defend his family.\",\n",
       " 'Tom Hanks plays Andrew Beckett, a hotshot Philadelphia lawyer who has been keeping his homosexuality, and his AIDS, hidden from his conservative bosses. When he\\'s suddenly and inexplicably fired, Andrew suspects AIDS is the reason, and is determined to fight in court, even as he is losing his other battle, against the disease. Beckett hires attorney Joe Miller (Denzel Washington) to represent him, but the lawyer must first overcome his own homophobia and fears. Director Jonathan Demme filmed this after winning the Oscar for SILENCE OF THE LAMBS. The amazing cast includes Antonio Banderas, Joanne Woodward, and Jason Robards. Roger Corman and Charles Napier, both in LAMBS, make appearances. Bruce Springsteen\\'s haunting song \"Streets of Philadelphia\" plays over the memorable opening credits. This sensitive, moody film touches on a vast array of subjects surrounding gay and straight men, family, and death, without ever being maudlin or preachy, which is to its immense credit. An undoubted influence on society\\'s growing acceptance of homosexuality, PHILADELPHIA reminds us how far we\\'ve come in that direction, and how far we still need to go.',\n",
       " 'Benjamin Esposito is a judicial employee who decides to retire after writing a novel about a criminal case, which has been a witness and protagonist. Writing the book on the murder occurred in Buenos Aires in 1974, leads him to investigate his own past and for a period of argentina history marked by violence and death.',\n",
       " \"Lester Burnham (Kevin Spacey) is a middle aged man suffering from a mid-life crisis. He has an epiphany when he lays his eyes on one of his daughter Jane's friends. Woken from his suburban coma, he takes it upon himself to make a few changes -- like quitting his job and buying the car of his dreams. His wife, Carolyn (Annette Bening), is a frustrated control freak who is only maddened by his escalating freedom, and his daughter (Thora Birch) just plain hates him. His wife's reaction to the situation is to fall in the arms of a colleague (Peter Gallagher). The chaos in the neighborhood becomes more complicated with the arrival of an equally dysfunctional family consisting of a stern ex-Marine, his vacuous wife and their detached, drug-dealing son Ricky, who becomes involved with Jane.\",\n",
       " 'Pixar (Films)',\n",
       " \"Harry Goldfarb (Jared Leto) and Marion Silver (Jennifer Connelly) are lovers in Brooklyn with dreams of setting up a small business and spending the rest of their lives in love--their version of the American dream. The two are also desperate heroin addicts, a compulsion that darkens their lives and leads Harry to repeatedly pawn his mothers television. His mother, Sara Goldfarb (Ellen Burstyn), is addicted to television, which is why she keeps replacing the stolen set. One day she receives a call from her favorite show, the surreal Tappy Tibbons Show, and learns that she has been selected to appear on an upcoming broadcast. When she can't fit into her best red dress, her doctor prescribes diet pills (uppers), to which she swiftly and painfully becomes addicted. Harry's cohort, an intelligent hustler named Tyrone (Marlon Wayans), completes the foursome.\",\n",
       " \"He's the star of the show - but he doesn't know it! Jim Carey plays unwitting Truman Burbank, an ordinary man in a not-so-ordinary life. From the time he was born to the present, Truman's entire life has been broadcast live on national TV. Truman doesn't realize that his quaint hometown is actually a giant studio set - big enough to be seen from space - and that the folks living and working there are Hollywood actors. Even Truman's incessantly bubbly wife is a contract player. Gradually, Truman gets wise. And what he does about his discovery will have you laughing, crying and cheering as he finds his way to the truth.\",\n",
       " 'A young boy (Haley Joel Osment) is challenged by his teacher (Kevin Spacey) to make the world a better place. The boy comes up with the \"pay it forward\" concept, in which you do a good deed for someone, who then does a good deed for three other people, rather than \"payback\" the favor. The boy starts by taking in a homeless junkie, much to the surprise of his mother (Helen Hunt).',\n",
       " 'James Ryan (Matt Damon), who has parachuted into France during the Allied invasion of Europe, has just lost three brothers in combat. Government policy dictates that he should return home lest his family be deprived of all its male offspring. A team of soldiers, led by Captain John Miller (Tom Hanks) and fresh from the beaches of Normandy, is assembled to find and save Private Ryan.',\n",
       " 'Drama | 1930s. Childhood. Education. Schools & University',\n",
       " \"In the not so distant future, Theodore (Joaquin Phoenix), a lonely writer purchases a newly developed operating system designed to meet the user’s every needs. To Theodore’s surprise, a romantic relationship develops between him and his operating system, named Samantha (Scarlett Johansson's voice). This unconventional love story blends science fiction and romance in a sweet tale that explores the nature of love and the ways that technology isolates and connects us all.\",\n",
       " 'The Passion of The Christ is a film about the last twelve hours of Jesus of Nazareth\\'s life. The film opens in the Garden of Olives (Gethsemane) where Jesus has gone to pray after the Last Supper. Jesus resists Satan\\'s temptations. Betrayed by Judas Iscariot, Jesus is arrested and taken back to within the city walls of Jerusalem where the leaders of the Pharisees confront him with accusations of blasphemy and his results in a condemnations of death. Jesus is brought before Pilate, the Roman Governor of Palestine, who listens to the accusations leveled at him by the Pharisees. Realizing he is confronting a political conflict, Pilate defers to King Herod in the matter. Herod returns Jesus to Pilate who gives the crowd a choice between Jesus and the criminal Barabbas. The crowd chooses to have Barabbas set free and to condemn Jesus. Jesus is handed over to the Roman soldiers and flagellated. Unrecognizable now, he is brought back before Pilate, who presents him to the crowd as if to say \"is this not enough?\" It is not. Pilate washes his hands of the entire dilemma, ordering his men to do as the crowd wishes. Jesus is presented with the cross and is ordered to carry it through the streets of Jerusalem all the way up to Golgotha. On Golgotha, Jesus is nailed to the cross and undergoes his last temptation -- the fear that he has been abandoned by his Father. He overcomes his fear, looks at Mary, his Holy Mother, and makes the pronouncement which only she can fully understand, \"it is accomplished.\" He then dies: \"into Thy hands I commend my Spirit\". At the moment of his death, nature itself overturns.',\n",
       " \"Billy (Jamie Bell), through his unexpected love of dance, embarks on a journey of self-discovery in the world of picket lines, cultural stereotypes, a family in crisis and a headstrong ballet teacher. When eleven-year-old Billy stumbles across a local ballet class that comes to share the village hall with his boxing club, something in the magic of the movements captures his imagination, and he's soon ditching his boxing gloves to sneak in at the back of Mrs. Wilkinson's (Julie Walters) lessons. With a sharp eye for talent, Mrs. Wilkinson's zest for teaching is revived when she sees Billy's potential.\",\n",
       " 'Jim Harrison Adaptations',\n",
       " \"A portrait of one man's real journey across America's Heartland. Filmed along the 260-mile route that the actual Alvin Straight traversed in 1994 from Laurens, Iowa, to Mt. Zion, Wisconsin, 'The Straight Story' chronicles Alvin's patient odyssey and those he meets along the way. When not rolling along at five miles an hour aboard his '66 John Deere, Alvin encounters a number of strangers, from a teenage runaway to a fellow World War II veteran. By sharing his life's earned wisdom with simple stories, Alvin has a profound impact on these characters that color his pilgrimage.\",\n",
       " \"Tom Hanks stars as Tom Noland, a FedEx executive who flies around the world solving problems for his shipping company. A taskmaster and devotee of time management, he squeezes in a rushed Christmas Eve dinner with his fiancée (Helen Hunt), before he is called away to a company crisis in the South Pacific. Before boarding his flight, he gives her a surprise gift that appears to be an engagement ring, and he promises to return for New Year's. Noland's flight suffers a catastrophic explosion over the Pacific and crashes into the sea. He emerges as the sole survivor and begins a remarkable, modern-day Robinson Crusoe existence on an uninhabited island where time — which he valued so highly — is now meaningless. Faced with absolute isolation, he must quickly learn survival skills to save both his live and his sanity.\",\n",
       " 'The Lord of the Rings',\n",
       " \"Matt Damon stars as Will Hunting, a closet math genius who ignores his gift in favor of nightly boozing and fighting with South Boston buddies (co-writer Ben Affleck among them). While working as a university janitor, he solves an impossible calculus problem scribbled on a hallway blackboard and reluctantly becomes the prodigy of an arrogant MIT professor (Stellan Skarsgård). Damon only avoids prison by agreeing to see psychiatrists, all of whom he mocks or psychologically destroys until he meets his match in the professor's former childhood friend, played by Williams. Both doctor and patient are haunted by the past, and as mutual respect develops, the healing process begins. The film's beauty lies not with grand climaxes, but with small, quiet moments. Scenes such as Affleck's clumsy pep talk to Damon while they drink beer after work, or any number of therapy session between Williams and Damon offer poignant looks at the awkward ways men show affection and feeling for one another.\",\n",
       " 'Holly Kennedy (Hilary Swank) is beautiful, smart, and married to the love of her life—a passionate, funny and impetuous Irishman named Gerry (Gerard Butler). So when Gerry’s life is taken by an illness, it takes the life out of Holly. The only one who can help her is the person who is no longer there. Nobody knows Holly better than Gerry. So it’s a good thing he planned ahead. Before he died, Gerry wrote Holly a series of letters that will guide her, not only through her grief but in rediscovering herself. The first message arrives on Holly’s 30th birthday in the form of a cake and, to her utter shock, a tape recording from Gerry, who proceeds to order her to get out and “celebrate herself.” In the weeks and months that follow, more letters from Gerry are delivered in surprising ways, each sending her on a new adventure and each signing off in the same way: P.S. I Love You. Holly’s mother (Kathy Bates) and best friends, Sharon (Gina Gershon) and Denise (Lisa Kudrow), begin to worry that Gerry’s letters are keeping Holly tied to the past, but, in fact, each letter is pushing her further into a new future.',\n",
       " 'In 1944, the third year of peace a thirteen-year-old girl, Ofelia moves to asmall village with her mother, Carmen who is in the last stages of pregnancy.Vidal, a cruel captain of the Francoist army and Carmen’s new husband isstationed in this village but Ofelia feels no affection whatsoever for thisman. Vidal’s mission is to finish off the last traces of republican resistancehidden in the mountains of the region. Vidal’s centre of operations is also tobe found here in a mill where Mercedes, a young girl in charge of the othermembers of the domestic staff and the doctor who will be in charge of Carmen inher delicate state of health are also waiting for them. One night Ofeliadiscovers the ruins of a labyrinth where she meets a faun, a strange creaturewho makes an incredible revelation. Ofelia is in fact a princess, the last ofher line, and they have been waiting for her for a long time. To return to hermagic kingdom, the girl must face three trials before the full moon.',\n",
       " 'At the close of WWII, a young nurse tends to a badly-burned plane crash victim. His past is shown in flashbacks, revealing an involvement in a fateful love affair.',\n",
       " \"Meet the conflictive Hoover family: a grandfather who snorts coke and swears, the father, a struggling motivational speaker, a mother who can't cope, an uncle recovering from a failed suicide attempt after being dumped by his boyfriend, a Nietzsche-worshipping son who has taken a vow of silence and little Olive, the four-eyed, slightly pudgy youngster of the bunch who dreams of being beautiful. When luck has Olive invited to participate in the highly competitive 'Little Miss Sunshine' pageant in California, they all hop into the rusty old VW bus to accompany her westwards to her big debut in three mad days of tragicomic surprises; this is a family whose lives are in for a change.\",\n",
       " 'World War II has taken the world by storm, and Europe is feeling its efforts. Back in the United States, however, peace and traquility prevail as the people refuse to get involved. On December 7, 1941, all this would change. Rafe McCawley (Affleck) and Danny Walker (Hartnett) grew up together and learned to fly in the dangerous aviation practice of cropdusting. The two join the U.S. Army Air Corps where Rafe falls in love with a beautiful and courageous nurse, Evelyn Johnson (Beckinsale), before volunteering to fight alongside the English pilots in the Battle of Britain. He leaves behind Evelyn and Danny who are soon stationed together at Pearl Harbor. Taking advantage of the heavenly spot, new friendships and loves are formed, unaware of the overwhelming forces moving toward them which would shatter their world and alter history.',\n",
       " 'Sometime in the future of the 21st century, in a time when the Greenhouse Effect has melted the icecaps, submerging many of the coastal cities in water, mankind depends upon computers with artificial intelligence to maintain our way of life. Man has also found new friends in A.I., in the form of robots that are used for a variety of functions. This story is about a boy robot, and the emotional journey he makes toward becoming something more.',\n",
       " 'The Little Tramp',\n",
       " 'Alan Moore Adaptations',\n",
       " \"This ultimate romantic comedy weaves together a spectacular number of love affairs into one amazing story. Set almost entirely in London, England during five frantic weeks before Christmas follows a web-like pattern of inter-related, losely related and unrelated stories of a dozen or more various individuals with their love lives, or lack of them. The central character is the new bachelor prime minister David (Hugh Grant) who cannot express his growing feelings for his new personal assistant Natalie (Martine McCutcheon). The prime minister's older sister Karen (Emma Thompson) slowly grows aware of her husband Harry's (Alan Rickman) flirtation with an office worker named Mia (Heike Makatsch). Karen's friend Daniel (Liam Neeson) is a recently widowed writer whose 11-year-old son asks for love advice about a girl he has a crush on. Meanwhile, Jamie (Colin Firth) is another writer who leaves his girlfriend after catching her cheating on him and travels to France to write a novel where he pursues a possible romance with his non-English speaking Portuguese maid Aurelia (Lucia Moniz). Also, Harry's American secretary Sarah (Laura Linney) questions a romance she pursues with the office hunk Karl (Rodrigo Santoro), but her personal family problems get in the way. Other secondary characters involve a photographer who pursues his best friend's new wife Juliet (Keira Knightley); a pair of movie stand-ins, named John and Judy, who grow closer after their simulated love scenes; a libidinous chum who wants to travel to Wisconsin, USA to score with women; and a burned-out former rock star named Billy Mack (Bill Nighy) who is the main connection between all stories involved.\",\n",
       " 'Victor Hugo Adaptations | Les misérables',\n",
       " 'Nina (Natalie Portman) is a ballerina in a New York City ballet company whose life, like all those in her profession, is completely consumed with dance. She lives with her obsessive former ballerina mother Erica (Barbara Hershey) who exerts a suffocating control over her. When artistic director Thomas Leroy (Vincent Cassel) decides to replace prima ballerina Beth MacIntyre (Winona Ryder) for the opening production of their new season, Swan Lake, Nina is his first choice. But Nina has competition: a new dancer, Lily (Mila Kunis), who impresses Leroy as well. Swan Lake requires a dancer who can play both the White Swan with innocence and grace, and the Black Swan, who represents guile and sensuality. Nina fits the White Swan role perfectly but Lily is the personification of the Black Swan. As the two young dancers expand their rivalry into a twisted friendship, Nina begins to get more in touch with her dark side—a recklessness that threatens to destroy her.',\n",
       " 'Jack is a young boy of 5 years old who has lived all his life in one room. He believes everything within it are the only real things in the world. But what will happen when his Ma suddenly tells him that there are other things outside of Room?',\n",
       " \"Kate is a 15 year old girl who is battling cancer. Diagnosed at the age of seven with acute promyelocytic leukemia, Kate's mother, Sarah (Cameron Diaz), quits her job as a lawyer to tend to her daughter.\",\n",
       " 'Avatar',\n",
       " \"A visually stunning epic, THE MISSION recounts the true story of two men--a man of the sword (Robert De Niro) and a man of the cloth (Jeremy Irons)--both Jesuit missionaries who defied the colonial forces of mighty Spain and Portugal to save an Indian tribe from slavery in mid-18th-century South America. Mendoza (De Niro) is a slave trader and colonial imperialist who murdered his own brother (Aidan Quinn) and seeks penance for his sins by becomining a missionary at Father Gabriel's (Irons) mountaintop mission; Gabriel is a devout and idealistic man who extols nonviolence and peaceful interaction with the natives and colonialists. Despite their differences, the two men must unite to save the mission when Spain, Portugal, and the Catholic church begin negotiating their boundaries in the area--negotiations that will affect both the freedom of the natives and the well-being of the Jesuit missionaries who have set up safe havens for them. Director Roland Joffé's sweeping masterpiece is a haunting account of the unjust treatment of the Guarani Indians of South America and the men who fought desperately, in very different ways, to save them. The film features a mezmerizing musical score by Ennio Morricone that weaves a stunning combination of church choirs and native Indian panpipes into the lush images of the Brazilian rainforest.\",\n",
       " 'One day, 8 year-old Mary chooses a name from the New York phone directory at random, that of Max, and writes him a letter. Max is a lonely 44 year-old man who has no friends. A correspondence grows between the two of them over the years, with Max coming to offer Mary advice about how to deal with life and Mary being Max’s one and only friend.',\n",
       " 'Los Angeles, 1928: On a Saturday morning in a working-class suburb, Christine (Angelina Jolie) said goodbye to her son, Walter, and left for work. When she came home, she discovered he had vanished. A fruitless search ensues, and months later, a boy claiming to be the nine-year-old is returned. Dazed by the swirl of cops, reporters and her conflicted emotions, Christine allows him to stay overnight. But in her heart, she knows he is not Walter.',\n",
       " \"An acclaimed drama, spanning a period of forty years, in which Celie, a black girl, is mistreated by two men until suddenly a blues singer enters her life and her real self begins to emerge. The story is based on Alice Walker's Pullitzer Prize-winning novel.\",\n",
       " 'Butterfly Effect',\n",
       " 'Otto and Ana are kids when they meet each other. Their names are palindromes. They meet by chance, people are related by chance. A story of circular lives, with circular names, and a circular place (Círculo polar) where the day never ends in the midnight sun. There are things that never end, and Love is one of them.',\n",
       " 'Based on the book \"Out of Africa\" by Danish writer Isak Dinesen (her real name was Karen Blixen). Karen Blixen, a Danish woman, marries a friend for the title of Baroness and they move to Africa and start a coffee plantation. Things unfold when her husband begins cheating on her and is away on business often, so she\\'s at home alone, working on the farm and bonding with two men she met in her first day in Africa. She eventually falls in love with the one, Denys Finch-Hatton, and goes on safari and whatnot with him.',\n",
       " \"Walt Disney’s Full-Length Animated Classics | Disney's Beauty and the Beast | Disney Princess | Jeanne-Marie Leprince de Beaumont Adaptations\",\n",
       " 'Harry Potter Saga | J.K. Rowling Adaptations',\n",
       " \"Despite the tumor-shrinking medical miracle that has bought her a few years, Hazel has never been anything but terminal, her final chapter inscribed upon diagnosis. But when a patient named Augustus Waters suddenly appears at Cancer Kid Support Group, Hazel's story is about to be completely rewritten: Hazel and Gus become two extraordinary teenagers who share an acerbic wit, a disdain for the conventional, and a love that sweeps them -- and us – on an unforgettable journey. Their relationship is all the more miraculous, given that they met and fell in love at a cancer support group.\",\n",
       " \"The monster does not come walking often. This time it comes to Connor, and it asks for the one thing Connor cannot bring himself to do. Tell the truth. This is a very touching story about a boy who feels very damaged, guilty and mostly angry. He struggles at school with bullies, and pity looks from everyone, and at home with his mother's sickness. Will Connor overcome his problems? Will everything be okay? Will Connor be able to speak the truth?\"]"
      ]
     },
     "execution_count": 14,
     "metadata": {},
     "output_type": "execute_result"
    }
   ],
   "source": [
    "sinopsis_emocionantes"
   ]
  },
  {
   "cell_type": "code",
   "execution_count": 15,
   "metadata": {},
   "outputs": [],
   "source": [
    "#Guardamos pickle\n",
    "\n",
    "with open('emocionantes.pcikle', 'wb') as emocionantes:\n",
    "    pickle.dump(sinopsis_emocionantes, emocionantes)\n",
    "    "
   ]
  },
  {
   "cell_type": "code",
   "execution_count": 16,
   "metadata": {},
   "outputs": [],
   "source": [
    "#Cargar pickle\n",
    "\n",
    "with open('emocionantes.pcikle', 'rb') as emocionantes:\n",
    "    sinopsis_emocionantes = pickle.load(emocionantes)"
   ]
  },
  {
   "cell_type": "code",
   "execution_count": null,
   "metadata": {},
   "outputs": [],
   "source": []
  },
  {
   "cell_type": "code",
   "execution_count": null,
   "metadata": {},
   "outputs": [],
   "source": []
  },
  {
   "cell_type": "code",
   "execution_count": 17,
   "metadata": {},
   "outputs": [],
   "source": [
    "# DIVERTIDAS"
   ]
  },
  {
   "cell_type": "code",
   "execution_count": 18,
   "metadata": {},
   "outputs": [],
   "source": [
    "#Empiezo a hacer scrap en filmafinity\n",
    "\n",
    "driver = r\"C:\\\\Users\\\\alber\\\\Downloads\\\\chromedriver_win32\\\\chromedriver.exe\"\n",
    "url = 'https://www.filmaffinity.com'\n",
    "# Initializing the webdriver\n",
    "options = webdriver.ChromeOptions()\n",
    "options.add_argument('headless')\n",
    "\n",
    "driver = webdriver.Chrome(executable_path=driver, options=options)"
   ]
  },
  {
   "cell_type": "code",
   "execution_count": 19,
   "metadata": {},
   "outputs": [],
   "source": [
    "# Divertidas\n",
    "#Abro el listado de las peliculas mas emocionantes, clkikeo el pop up y busco los titulos\n",
    "\n",
    "url = 'https://www.filmaffinity.com/us/listtopmovies.php?list_id=610'\n",
    "driver.get(url)\n",
    "boton = driver.find_element_by_xpath('/html/body/div[1]/div/div/div/div[2]/div/button[2]')\n",
    "boton.click()\n",
    "titulos = driver.find_elements_by_class_name('mc-title')        "
   ]
  },
  {
   "cell_type": "code",
   "execution_count": 20,
   "metadata": {},
   "outputs": [],
   "source": [
    "lista_titulos = []\n",
    "\n",
    "for peli in titulos:\n",
    "    lista_titulos.append(peli.find_element_by_tag_name('a').get_attribute('href'))"
   ]
  },
  {
   "cell_type": "code",
   "execution_count": 21,
   "metadata": {},
   "outputs": [],
   "source": [
    "# Meto en una lista todas las sinopsis emocionantes\n",
    "\n",
    "sinopsis_divertidas = []\n",
    "\n",
    "for url in lista_titulos:\n",
    "    try:\n",
    "        driver.get(url)\n",
    "        sinopsis =  driver.find_element_by_xpath('/html/body/div[4]/table/tbody/tr/td[2]/div[1]/div[4]/div/div[3]/dl[1]/dd[12]')\n",
    "        sinopsis = sinopsis.text\n",
    "        sinopsis_divertidas.append(sinopsis)\n",
    "    except: 'NoSuchElementException'\n",
    "    "
   ]
  },
  {
   "cell_type": "code",
   "execution_count": 22,
   "metadata": {},
   "outputs": [
    {
     "data": {
      "text/plain": [
       "93"
      ]
     },
     "execution_count": 22,
     "metadata": {},
     "output_type": "execute_result"
    }
   ],
   "source": [
    "len(sinopsis_divertidas)"
   ]
  },
  {
   "cell_type": "code",
   "execution_count": 23,
   "metadata": {},
   "outputs": [
    {
     "data": {
      "text/plain": [
       "['Monty Python',\n",
       " 'Hangover',\n",
       " \"Ben Stiller plays a 30-something loser-in-love who decides to hires a private detective to find his high school sweetheart in hopes of rekindling their long-ago romance. Matt Dillon is the detective who tracks down the lost lover (Cameron Diaz) only to fall head-over-heels in love with her himself. So he reports back to his client that she's a 250 pound behemoth living on welfare with her four fatherless children. Of course, the Farrelly brothers were responsible for that no-brow hit Dumber and Dumber, so don't expect a lot of subtlety in this film that nonetheless looks to be a hit.\",\n",
       " \"The quintessential movie spoof that spawned an entire genre of parody films, the original Airplane! still holds up as one of the brightest comedic gems of the '80s, not to mention of cinema itself. The humor may be low and obvious at times, but the jokes keep coming at a rapid-fire clip and its targets--primarily the lesser lights of '70s cinema, from disco films to star-studded disaster epics--are more than worthy for send-up. If you've seen even one of the overblown Airport movies then you know the plot: the crew of a filled-to-capacity jetliner is wiped out and it's up to a plucky stewardess and a shell-shocked fighter pilot to land the plane.\",\n",
       " 'When \"The Dude\" Lebowski is mistaken for a millionaire Lebowski, two thugs urinate on his rug to coerce him into paying a debt he knows nothing about. While attempting to gain recompense for the ruined rug from his wealthy counterpart, he accepts a one-time job with high pay-off. He enlists the help of his bowling buddy, Walter, a gun-toting Jewish-convert with anger issues. Deception leads to more trouble, and it soon seems that everyone from porn empire tycoons to nihilists want something from The Dude.',\n",
       " 'Dumb and Dumber',\n",
       " 'Meet the Fockers Saga',\n",
       " 'King Arthur | Monty Python',\n",
       " 'Each week, Pierre and his friends organize what is called as \"un dîner de cons\". Everyone brings the dumbest guy he could find as a guest. Pierre thinks his champ -François Pignon- will steal the show.',\n",
       " 'Two men (Lemmon and Curtis) hide from the mafia in an all girls band after they witness a murder, and find it hard to keep their cover as women when they meet Sugar Kane (Marilyn).',\n",
       " 'Shrek | DreamWorks Animation (Films)',\n",
       " \"On the morning of their father's funeral, the family and friends of the deceased each arrive with his or her own roiling anxieties. Son Daniel knows he will have to face his flirty, blow-hard, famous-novelist brother, Robert, who's just flown in from New York, not to mention the promises of a new life he's made to his wife Jane. Meanwhile, Daniel's cousin Martha and her dependable new fiancé Simon are desperate to make a good impression on Martha's uptight father--a plan that literally goes out the window when Simon accidentally ingests a designer drug en rout to the service. Then there's the mysterious guest who threatens to unveil an earth-shattering family secret. As mayhem and unfortunate mishaps ensue on every front, it is up to the two brothers to hide the truth from their family and friends and figure out how to not only bury their dearly beloved, but the secret he's been keeping.\",\n",
       " 'Scary Movie',\n",
       " 'Torrente',\n",
       " \"Zucker, Abrahams, and Zucker--of AIRPLANE! and NAKED GUN fame--wrote and directed this genre-hopping slapstick juggernaut which lampoons World War II spy films and Elvis movies, making many other satirical stops along the way. East Germany is planning a cultural festival, and invites rock-and-roll singer Nick Rivers (Val Kilmer) (but only after Leonard Bernstein can't make it). The festival, however is a mere distraction so that the Germans can launch a secret attack on a submarine fleet without being detected. Nick soon finds himself involved with the French resistance, encountering slapstick gags and film parodies every time he turns around.\",\n",
       " 'American Pie',\n",
       " 'Moved by a strange sense of business, Groucho gets all the stars of the Milano Opera on a boat headed to New York. Two stowaways also travel on the same boat: Harpo and Chico. The three of them stir up the boat, create a scandal in New York and turn the release day into a madness the opera world will never forget.',\n",
       " \"Ali G unwittingly becomes a pawn in the evil Chancellor's plot to overthrow the Prime Minister of Great Britain. However, instead of bringing the Prime Minister down, Ali is embraced by the nation as the voice of youth and 'realness', making the Prime Minister and his government more popular than ever.\",\n",
       " 'Sacha Baron Cohen - star of HBO’s hit comedy “Da Ali G Show,” takes his outrageous Kazakstani reporter character Borat to the big screen. In this hilariously offensive movie, Borat travels from his primitive home in Kazakhstan to the U.S. to make a documentary. On his cross-country road-trip, Borat meets real people in real situations.',\n",
       " 'Frankenstein',\n",
       " \"Sellers stars as a would-be actor from India (let them try to get away with that today) who is a walking disaster area. After ruining a day's shooting as an extra on a film, he finds himself unintentionally invited to a big Hollywood party.\",\n",
       " 'The Naked Gun',\n",
       " \"Meet the conflictive Hoover family: a grandfather who snorts coke and swears, the father, a struggling motivational speaker, a mother who can't cope, an uncle recovering from a failed suicide attempt after being dumped by his boyfriend, a Nietzsche-worshipping son who has taken a vow of silence and little Olive, the four-eyed, slightly pudgy youngster of the bunch who dreams of being beautiful. When luck has Olive invited to participate in the highly competitive 'Little Miss Sunshine' pageant in California, they all hop into the rusty old VW bus to accompany her westwards to her big debut in three mad days of tragicomic surprises; this is a family whose lives are in for a change.\",\n",
       " \"In New York, Melvin Udall (Jack Nicholson) is the most dysfunctional of men, an acid-tongued romance novelist who suffers from obsessive-compulsive disorder. As part of Melvin's unwavering daily routine, he consumes an artery-hardening breakfast of bacon, sausages and eggs at a local cafe. The only waitress willing to stand up to his sarcastic tirades is Carol Connelly (Helen Hunt), a single mother struggling to raise her chronically asthmatic son. Simon Nye (Greg Kinnear) has the distinct misfortune of living across the hall from Melvin. A talented artist, Simon is the darling of New York's art world, reason enough to draw Melvin's verbal fire. These three, none of whom has a chance in hell of finding real happiness, discover their fates intertwined because of a fourth character: an ugly little dog named Verdall.\",\n",
       " 'Torrente',\n",
       " 'Once again, for the fifth year in a row, TV weatherman Phil Connors (Bill Murray) is forced to cover the Groundhog Day ceremonies in Punxsutawney, Pennsylvania, an assignment he truly despises. But this year something truly bizarre happens after he finishes the report: When he wakes up the next morning, ready to leave, he discovers its February 2 all over again. He tries to tell his producer, Rita (Andie MacDowell), whats happening, but neither she nor anyone else understands; only he remembers that theyve already lived through Groundhog Day. When the same thing happens the next morning, he thinks hes going insane and wreaks havoc all through the town. More and more mornings pass, all of them February 2, and all of them with an ever angrier Phil. Desperate to escape, he even tries suicide, but still another February 2 dawns. As he starts realizing that his exploits are not making time march on any quicker, Phil begins to change his behavior, performing a series of lifesaving tasks until he becomes a model citizen, hoping it will be enough to get him out of Punxsutawney forever. Along the way he learns more about the people around him--and himself--than he ever thought possible. The film is extremely well put together by director Harold Ramis, and the script by Danny Rubin and Ramis is sharp and clever. The actors--many of whom have to perform essentially the same scene over and over again, with only subtle differences--is a riot.',\n",
       " 'Ice Age Franchise | Blue Sky Studios',\n",
       " 'Turkish, an unlicensed boxing promoter, is pulled into trouble when he becomes involved in big time criminal Brick Top, who wants him to arrange a fight and fix it. Meanwhile, a diamond theft goes down but the 84 karat stone goes missing. This leads Avi, the boss who was supposed to receive the stone, to come to England to search for it, with the help of his cousin, Doug The Head and Bullet Tooth Tony. As events twist and turn, the two situations blend into one with a chain reaction of events carrying on for each and every character.',\n",
       " 'Three Flavours Cornetto trilogy',\n",
       " 'In the 1930s, Tomania falls under the control of dictator Adenoid Hynkel, who dreams of world domination. In the Jewish district of the capital lives a barber who looks so much like Hynkel that he could be his twin. During the First World War, the barber had saved the life of a military pilot named Schultz, who has now become a commanding officer. Schultz pays the barber back by protecting the area in which he lives from anti-Semites. But when Schultz is arrested for being too friendly with Jews, both men are taken to a concentration camp. Later, the two men escape and the barber is mistaken for Hynkel. He takes the opportunity to make a radio speech in the dictator’s place.',\n",
       " 'Pixar (Films)',\n",
       " 'A comedy about a rich kid from Andalusia who passes himself off as Basque in order to win the heart of the only woman who ever resisted his charms. Rafa (Dani Rovira) has to travel to the north of Spain to follow Amaia (Clara Lago), a basque girl he has met in Seville, despite of the advisements of his friends, who think he will fail in his attempt to seduce Amaia. The movie has been compared with the 2008 French comedy \"Bienvenue chez les Ch\\'tis\", about a southern Frenchman who travels up north and has to deal with confusing language-based situations.',\n",
       " 'Comedy',\n",
       " \"When somebody's mother is an angel and his father is the devil, life can be really confusing. For a sweet boy like Little Nicky, it just got a whole lot worse. His two evil brothers Adrian and Cassius have just escaped from Hell and are wreaking havoc on an unsuspecting earth. His dad is disintegrating and it's up to Nicky to save him and all of a humanity by midnight before one of his brothers becomes the new Satan.\",\n",
       " 'Ace Ventura',\n",
       " 'After a paragliding accident, Philippe, a rich aristocrat, is confined to his home. He employs Driss as home help. Driss is a young guy from the projects recently out of prison. In short, the person the least adapted for the job. Vivaldi and Earth, Wind and Fire, fine language and slang, suits and jogging outfits come together and a clash is inevitable. Two worlds collide and win each other over to give birth to a friendship as crazy, funny, and fierce as it is unexpected. A unique relationship that will make sparks fly and render Philippe and Driss untouchable.',\n",
       " 'Home Alone',\n",
       " \"On one of their last nights as high schoolers, best friends and social outcasts Evan (Cera) and Seth (Hill) experience a legendary evening as they attempt to buy booze for a cool-kid party. Superbad is a coming-of-age cautionary tale about two socially inept teenage boys about to graduate high school. Theirs is a ridiculously dependent friendship--but now they've gotten into different colleges and are forced to contemplate life apart. Evan is sweet, smart, and generally terrified. Seth is foul-mouthed, volatile, and all-consumed with the topic of human sexuality. This is the story of their misguided attempts to reverse a lifelong losing streak with the ladies in one panic-driven night...that awful, humiliating night you cherish for the rest of your life.\",\n",
       " 'Shrek | DreamWorks Animation (Films)',\n",
       " 'The small state of Freedonia is in a financial mess, borrowing a huge sum of cash from wealthy widow Mrs. Teasdale. She insists on replacing the current president with crazy Rufus T. Firefly and mayhem erupts. To make matters worse, the neighboring state sends inept spies Chicolini and Pinky to obtain top secret information, creating even more chaos!',\n",
       " 'The film interweaves three tales: the first story focuses on Vincent Vega (John Travolta) and Jules Winnfield (Samuel L. Jackson), two hit men on duty for \"the big boss,\" Marsellus Wallace (Ving Rhames), whose gorgeous wife, Mia (Uma Thurman), takes a liking to Vincent. In the second, a down-and-out pugilist (Bruce Willis), who is ordered to take a fall, decides that there’s more money in doing the opposite. The final chapter follows a pair of lovers (Amanda Plummer and Tim Roth) as they prepare to hold up a diner.',\n",
       " 'Austin Powers',\n",
       " \"Charlie is a Rhode Island state trooper with a split personality. He is otherwise mild-mannered and non confrontational until somebody or something pushes him a little too far. That's when his maniacal alter-ego, Hank, takes over. Charlie is assigned on a routine mission to return alleged fugitive Irene back to upstate New York, but they wind up on the run from corrupt police officers. And their escape would be a lot simpler on everybody involved if Hank didn't keep stepping in at the most inopportune times...\",\n",
       " \"Walter Fielding and Anna Crowley have to start looking for a new house- but there's not much they can afford! This soon changes when they meet a lonely old con artist who sells them a beautiful mansion at a ridiculously low price. Only there's a catch. The second they move into the house it falls apart, starting with the stairway collapsing to the bathtub falling through the floor to eventually the chimney falling into the house! Finally, they have to renovate the house before the frame collapses but the renovations also prove to be a disaster.\",\n",
       " \"Diamond-loving American Wanda (Jamie Lee Curtis) has come to London with her demented, self-loving, and Nietzsche-quoting boyfriend Otto (Kevin Kline) in hopes of pulling off an armed diamond heist. The couple team up with two Brits, George (Tom Georgeson) and Ken (Michael Palin), a stuttering animal lover who plots to kill his annoying elderly neighbor but keeps knocking off her little dogs, much to his sorrow. After the heist, the four conspirators turn on one another in an attempt to keep the loot for themselves. Wanda and Otto inform on George and get him locked up, little knowing that he has already stashed the diamonds somewhere else. It appears that George's lawyer, prim and straight-laced Archie Leach (John Cleese), may be the only (free) person who knows where the grand haul is hidden, so Wanda sets out to seduce Archie, much to Otto's discomfort.\",\n",
       " \"An unctuous, smooth-talking divorce attorney's propensity for propitious prevarication may wow the juries, but his five-year-old son, Max, wants an end to the lies. So when Dad blows off the boy's birthday bash with yet another weak excuse, Max wishes his dad to spend a whole day incapable of lying. And lo and behold, the wish comes true, with hilariously disastrous results in the courtroom.\",\n",
       " 'Meet the Fockers Saga',\n",
       " 'Zombieland',\n",
       " 'Ferenc Molnár Adaptations',\n",
       " 'Pixar (Films) | Monsters S.A.',\n",
       " 'Despite Forrest\\'s (Tom Hanks) low IQ, he is not your average guy. Learning early on from his mother (Sally Field) that \"life is like a box of chocolates, you never know what you\\'re gonna get\", Gump, without trying, stumbles upon some exciting events. Meanwhile, as the remarkable parade of his life goes by, Forrest never forgets Jenny (Robin Wright), the girl he loved as a boy, who makes her own journey through the turbulence of the 1960s and 1970s that is far more troubled than the path Forrest happens upon.',\n",
       " \"Guido - a charming but bumbling waiter who's gifted with a colourful imagination and an irresistible sense of humour - has won the heart of the woman he loves and has created a beautiful life for his young family. But then, that life is threatened by World War II and Guido must rely on those very same strengths to save his beloved wife and son from an unthinkable fate.\",\n",
       " 'The Little Tramp',\n",
       " 'Carol Lipton (Diane Keaton) suspects that her aged neighbor Paul House (Jerry Adler) has murdered his wife, found dead seemingly due to a heart attack. Her husband Larry (Woody Allen) thinks she’s paranoid and tries to get the idea out of her head; but Carol is determined to find out more about her neighbor and decides to follow him with the help of Ted (Alan Alda), a friend of the couple who’s always fancied her.',\n",
       " 'Zoolander',\n",
       " 'Hangover',\n",
       " 'Bruce Almighty stars Jim Carrey as Bruce Nolan, a \"human interest\" television reporter in Buffalo, New York who is discontented with almost everything in life, despite his popularity and the love of his girlfriend Grace (Jennifer Aniston). At the end of the worst day in his life, Bruce angrily ridicules and rages against God - and God responds. He appears in human form (Morgan Freeman) and, endowing Bruce with all of His divine powers, challenges Bruce to take on the big job and see if he can do it any better.',\n",
       " 'Melchior Lengyel Adaptations',\n",
       " 'Ace Ventura',\n",
       " 'Scary Movie',\n",
       " 'Toy Story | Pixar (Films)',\n",
       " 'A priest thinks he knows when the antichrist will be born in the earth: on Christmas day, 1995, in Madrid, Spain.',\n",
       " 'Pampered action superstar Tugg Speedman (Ben Stiller) is cast in the biggest, most expensive war movie ever produced. He sets out to Southeast Asia with a \"Who\\'s Who\" of celebrity co-stars. They include Kirk Lazarus (Robert Downey Jr.), an intense, three-time Oscar®-winning actor; Jeff Portnoy (Jack Black), star of the popular gross-out comedy franchise \"The Fatties\"; multi-platinum hip-hop-star-turned-entrepreneur-turned-actor Alpa Chino (Brandon T. Jackson); and first-timer Kevin Sandusky (Jay Baruchel). Soon after the production begins the actors are thrown into a real-life situation and are forced to become the fighting unit they\\'re portraying, in order to find a way out of the jungle in one piece.',\n",
       " \"Dante Hicks is a clerk at a local convenience store in New Jersey. On one particular Saturday morning, he gets called in on his day off. Once there, he must deal with multiple problems. The shutters outside won't open. His ex-girlfriend, whom he is still in love with, is getting married. His girlfriend, who bugs him about starting college, has revealed certain, uh...stuff about her past. His boss hasn't come in to take his place. He has a hockey game at 2 o'clock. Another ex has died, and today's the last day he can go to her wake. He must deal with customers that aren't so intelligent. His friend, Randal, a clerk at the video store next door, is even less dedicated to his job than Dante, and is always bothering Dante's customers. And the biggest problem of them all: HE'S NOT EVEN SUPPOSED TO BE THERE TODAY!! Can Dante manage it all?\",\n",
       " 'Monty Python',\n",
       " \"At John Hughes High School, the students are the same as just about every other teenager in a teen movie. The popular jock, Jake (Chris Evans), takes a bet from Austin, the cocky blonde guy (Eric Christian Olsen), that he can transform Janey, the pretty ugly girl (Chyler Leigh), into the prom queen before the prom. But two people are trying to stop Jake from succeeding: his evil sister, Catherine, the cruelest girl in school (Mia Kirshner), and Priscilla, the bitchy cheerleader (Jaime Pressly). And all of their friends are the same as any other teen movie: Areola, the naked foreign exchange student (Cerina Vincent), Les, the beautiful weirdo (Riley Smith), Malik, the token black guy (Deon Richmond), the desperate virgins (Cody McMains, Samm Levine, and Sam Huntington), Amanda Becker, the perfect girl (Lacey Chabert), Ricky, Janey's obsessed best friend (Eric Jungmann), and Sadie, the very old undercover reporter (Beverly Polcyn).\",\n",
       " 'Mortimer Brewster stops off in Brooklyn to visit his two favourite aunts Abby and Martha to tell them that he has just gotten married. However, he discovers the dotty old dears have been feeding their boarders poisoned elderberry wine, desiring only to make them happy in death. They have then convinced their mad brother who imagines he is Teddy Roosevelt to bury the thirteen bodies in the cellar. The situation becomes even crazier when Mortimer’s long lost brother Jonathan, who is on the Ten Most Wanted List, also turns up.',\n",
       " 'X-Men | Deadpool',\n",
       " 'Bridget Jones',\n",
       " \"After being dumped just before his wedding, Diego (Quim Gutiérrez) and his two cousins, Julián (Raúl Arévalo) and José Miguel (Adrián Lastra), travel to the village where they spent summer vacations as kids. Diego's revenge is simple: to seduce his school sweetheart, the gorgeous Martina (Inma Cuesta).\",\n",
       " 'TV Series (1994-2004). 10 Seasons. 236 Episodes. The series focuses on the friendship of three men and three women who frequently gather at each other’s apartments and share sofa space at Greenwich Village’s “Central Perk” coffeehouse. They are Rachel (Jennifer Aniston), Monica (Courteney Cox), Phoebe (Lisa Kudrow), Ross (David Schwimmer), Chandler (Matthew Perry) and Joey (Matt LeBlanc).\\n\\nSince its debut season (1994-95), “Friends” has received 55 Emmy Award nominations, including six for Outstanding Comedy Series, which the show won this year. The cast won a Screen Actors Guild Award in 1996 for Outstanding Ensemble Performance in a Comedy Series and has been nominated four times (1996, 1997, 1998, 2002) for a Golden Globe Award for Best Television Series, Musical or Comedy. “Friends” won the People’s Choice Award for Favorite New Comedy Series in its first season, and has since won three more times as Favorite Comedy Series including 2002.',\n",
       " 'Scary Movie',\n",
       " 'The Naked Gun',\n",
       " 'The Simpsons',\n",
       " 'Three Flavours Cornetto trilogy',\n",
       " 'Pixar (Films)',\n",
       " 'Family Guy creator Seth MacFarlane brings his boundary-pushing brand of humor to the big screen for the first time as writer, director and voice star of Ted. In the live action/CG-animated comedy, he tells the story of John Bennett (Mark Wahlberg), a grown man who must deal with the cherished teddy bear who came to life as the result of a childhood wish…and has refused to leave his side ever since.',\n",
       " \"Paul Vitti (De Niro) is one of New York's most powerful gangsters. He's grown up in the Mob life and has been well prepared for his future responsibilities by Manetta, his mentor and surrogate father (since his own father was gunned down years before). But when it becomes time for Paul Vitti to assume his role as the leader of his crime family, he suddenly starts having trouble breathing. He can't sleep; he's distant and preoccupied around his wife and kids; his mistress wants to know why his interest in romance has flagged; and his loyal henchmen wonder at his suddenly anxious demeanor. If the other crime families find out that Paul Vitti is having panic attacks, then how can he run his business? He's supposed to inspire panic, not experience it. Ben Sobol (Crystal) is a divorced suburban New York psychiatrist with a young son and a fiancee he's about to marry. He's a nice guy and a loving dad who's plagued by his relationship with his own father, a highly successful, media-seeking, pretentious Upper East Side therapist. Ben doesn't want to be anything like either of his self-absorbed parents - even if shunning the spotlight means enduring a patient list full of dull, boringly neurotic complainers without a serious challenge among them.\",\n",
       " 'The Mask',\n",
       " 'La Cage aux Folles',\n",
       " 'American Pie',\n",
       " 'Alvy Singer (Woody Allen), a neurotic comedian from New York, falls in love with Annie (Diane Keaton). The movie explores the ups and downs of modern relationships.',\n",
       " 'The Naked Gun',\n",
       " 'Toy Story | Pixar (Films)',\n",
       " 'Shawn and Marlon Wayans play two ambitious but unlucky FBI agents who go deep undercover as high society debutantes and infiltrate the sophisticated world of the Hamptons to investigate a kidnapping ring.',\n",
       " 'C.C. Baxter (Jack Lemmon) is an office clerk who curries favor with the executives in his office by giving them the key to his small apartment for the odd afternoon dalliance. Among them is his callous boss, J.D. Sheldrake (Fred MacMurray), who Baxter eventually learns is using his place to sleep with Miss Kubelik (Shirley MacLaine), the sweet elevator operator the clerk has loved from afar. When Sheldrake coldly dumps the vulnerable young woman, she tries to commit suicide, but is saved by the intervention of Baxter.',\n",
       " 'Neil Simon Adaptations',\n",
       " 'Comedy | Teen/coming-of-age. Teen Comedy. Sequel. Weddings',\n",
       " \"An unemployed actor loses custody of his children after his wife leaves him. Desperate to spend more time with the kids, the crafty thespian decides to dress up as a 60-year-old British woman and interview with his ex-wife for a nanny position. He lands the job, but he'll have to give the performance of his life to keep it.\",\n",
       " 'Director Tim Burton unleashes MARS ATTACKS!, a vicious, affectionate, brightly-colored homage to 1950s alien invasion movies. When a shiny silver flying saucer lands in the Nevada desert, a group of skull-faced Martians exit the gleaming craft. Although they claim to be peaceful, they promptly \"vaporize\" a gathering of unfortunate Earthlings, kicking off a bizarre high-tech war with wild special effects. This studiously campy sci-fi spoof, based on a series of Topps bubble-gum cards, gleefully parodies not only schlock B-horror movies, but also overblown blockbusters such as INDEPENDENCE DAY. This subversive film is helped along by an all-star cast including Jack Nicholson in dual roles as both a clueless U.S. President (with First Lady Glenn Close) and a Las Vegas sleazebag.',\n",
       " 'Early 19th Century. Boris Grushenko lives in a small Russian village obsessed with death and his cousin Sonia, who is about to marry a herring trader. Obliged by his family, Boris enlists in the army to fight against Napoleon. Time sees him turn into a war hero to the extent, despite his pacifist convictions, of holding Europe’s fate at gun point.',\n",
       " 'The Little Tramp',\n",
       " 'David Huxley (Grant) is an absent-minded paleontologist who needs to finish the reconstruction of a dinosaur for an exhibit that can provide good money for the museum. At a meeting with his potential benefactors, Huxley meets Susan Vance (Hepburn) who will complicate all his plans.']"
      ]
     },
     "execution_count": 23,
     "metadata": {},
     "output_type": "execute_result"
    }
   ],
   "source": [
    "sinopsis_divertidas"
   ]
  },
  {
   "cell_type": "code",
   "execution_count": 24,
   "metadata": {},
   "outputs": [],
   "source": [
    "#Guardamos pickle\n",
    "\n",
    "with open('divertidas.pcikle', 'wb') as divertidas:\n",
    "    pickle.dump(sinopsis_divertidas, divertidas)"
   ]
  },
  {
   "cell_type": "code",
   "execution_count": 25,
   "metadata": {},
   "outputs": [],
   "source": [
    "#Cargar pickle\n",
    "\n",
    "with open('divertidas.pcikle', 'rb') as divertidas:\n",
    "    sinnopsis_divertidas = pickle.load(divertidas)"
   ]
  },
  {
   "cell_type": "code",
   "execution_count": 42,
   "metadata": {},
   "outputs": [],
   "source": [
    "sinopsis_1 = pd.DataFrame({'sinopsis':sinopsis_divertidas,'sentimiento':1})"
   ]
  },
  {
   "cell_type": "code",
   "execution_count": 43,
   "metadata": {},
   "outputs": [
    {
     "data": {
      "text/html": [
       "<div>\n",
       "<style scoped>\n",
       "    .dataframe tbody tr th:only-of-type {\n",
       "        vertical-align: middle;\n",
       "    }\n",
       "\n",
       "    .dataframe tbody tr th {\n",
       "        vertical-align: top;\n",
       "    }\n",
       "\n",
       "    .dataframe thead th {\n",
       "        text-align: right;\n",
       "    }\n",
       "</style>\n",
       "<table border=\"1\" class=\"dataframe\">\n",
       "  <thead>\n",
       "    <tr style=\"text-align: right;\">\n",
       "      <th></th>\n",
       "      <th>sinopsis</th>\n",
       "      <th>sentimiento</th>\n",
       "    </tr>\n",
       "  </thead>\n",
       "  <tbody>\n",
       "    <tr>\n",
       "      <th>0</th>\n",
       "      <td>Monty Python</td>\n",
       "      <td>1</td>\n",
       "    </tr>\n",
       "    <tr>\n",
       "      <th>1</th>\n",
       "      <td>Hangover</td>\n",
       "      <td>1</td>\n",
       "    </tr>\n",
       "    <tr>\n",
       "      <th>2</th>\n",
       "      <td>Ben Stiller plays a 30-something loser-in-love...</td>\n",
       "      <td>1</td>\n",
       "    </tr>\n",
       "    <tr>\n",
       "      <th>3</th>\n",
       "      <td>The quintessential movie spoof that spawned an...</td>\n",
       "      <td>1</td>\n",
       "    </tr>\n",
       "    <tr>\n",
       "      <th>4</th>\n",
       "      <td>When \"The Dude\" Lebowski is mistaken for a mil...</td>\n",
       "      <td>1</td>\n",
       "    </tr>\n",
       "    <tr>\n",
       "      <th>...</th>\n",
       "      <td>...</td>\n",
       "      <td>...</td>\n",
       "    </tr>\n",
       "    <tr>\n",
       "      <th>88</th>\n",
       "      <td>An unemployed actor loses custody of his child...</td>\n",
       "      <td>1</td>\n",
       "    </tr>\n",
       "    <tr>\n",
       "      <th>89</th>\n",
       "      <td>Director Tim Burton unleashes MARS ATTACKS!, a...</td>\n",
       "      <td>1</td>\n",
       "    </tr>\n",
       "    <tr>\n",
       "      <th>90</th>\n",
       "      <td>Early 19th Century. Boris Grushenko lives in a...</td>\n",
       "      <td>1</td>\n",
       "    </tr>\n",
       "    <tr>\n",
       "      <th>91</th>\n",
       "      <td>The Little Tramp</td>\n",
       "      <td>1</td>\n",
       "    </tr>\n",
       "    <tr>\n",
       "      <th>92</th>\n",
       "      <td>David Huxley (Grant) is an absent-minded paleo...</td>\n",
       "      <td>1</td>\n",
       "    </tr>\n",
       "  </tbody>\n",
       "</table>\n",
       "<p>93 rows × 2 columns</p>\n",
       "</div>"
      ],
      "text/plain": [
       "                                             sinopsis  sentimiento\n",
       "0                                        Monty Python            1\n",
       "1                                            Hangover            1\n",
       "2   Ben Stiller plays a 30-something loser-in-love...            1\n",
       "3   The quintessential movie spoof that spawned an...            1\n",
       "4   When \"The Dude\" Lebowski is mistaken for a mil...            1\n",
       "..                                                ...          ...\n",
       "88  An unemployed actor loses custody of his child...            1\n",
       "89  Director Tim Burton unleashes MARS ATTACKS!, a...            1\n",
       "90  Early 19th Century. Boris Grushenko lives in a...            1\n",
       "91                                   The Little Tramp            1\n",
       "92  David Huxley (Grant) is an absent-minded paleo...            1\n",
       "\n",
       "[93 rows x 2 columns]"
      ]
     },
     "execution_count": 43,
     "metadata": {},
     "output_type": "execute_result"
    }
   ],
   "source": [
    "sinopsis_1"
   ]
  },
  {
   "cell_type": "code",
   "execution_count": 44,
   "metadata": {},
   "outputs": [],
   "source": [
    "sinopsis_2 = pd.DataFrame({'sinopsis':sinopsis_emocionantes,'sentimiento':0})"
   ]
  },
  {
   "cell_type": "code",
   "execution_count": 45,
   "metadata": {},
   "outputs": [
    {
     "data": {
      "text/html": [
       "<div>\n",
       "<style scoped>\n",
       "    .dataframe tbody tr th:only-of-type {\n",
       "        vertical-align: middle;\n",
       "    }\n",
       "\n",
       "    .dataframe tbody tr th {\n",
       "        vertical-align: top;\n",
       "    }\n",
       "\n",
       "    .dataframe thead th {\n",
       "        text-align: right;\n",
       "    }\n",
       "</style>\n",
       "<table border=\"1\" class=\"dataframe\">\n",
       "  <thead>\n",
       "    <tr style=\"text-align: right;\">\n",
       "      <th></th>\n",
       "      <th>sinopsis</th>\n",
       "      <th>sentimiento</th>\n",
       "    </tr>\n",
       "  </thead>\n",
       "  <tbody>\n",
       "    <tr>\n",
       "      <th>0</th>\n",
       "      <td>Guido - a charming but bumbling waiter who's g...</td>\n",
       "      <td>0</td>\n",
       "    </tr>\n",
       "    <tr>\n",
       "      <th>1</th>\n",
       "      <td>Oskar Schindler is a German businessman in Pol...</td>\n",
       "      <td>0</td>\n",
       "    </tr>\n",
       "    <tr>\n",
       "      <th>2</th>\n",
       "      <td>Despite Forrest's (Tom Hanks) low IQ, he is no...</td>\n",
       "      <td>0</td>\n",
       "    </tr>\n",
       "    <tr>\n",
       "      <th>3</th>\n",
       "      <td>After winning a trip on the Titanic during a d...</td>\n",
       "      <td>0</td>\n",
       "    </tr>\n",
       "    <tr>\n",
       "      <th>4</th>\n",
       "      <td>A young boy named Salvatore in a small Italian...</td>\n",
       "      <td>0</td>\n",
       "    </tr>\n",
       "    <tr>\n",
       "      <th>...</th>\n",
       "      <td>...</td>\n",
       "      <td>...</td>\n",
       "    </tr>\n",
       "    <tr>\n",
       "      <th>94</th>\n",
       "      <td>Based on the book \"Out of Africa\" by Danish wr...</td>\n",
       "      <td>0</td>\n",
       "    </tr>\n",
       "    <tr>\n",
       "      <th>95</th>\n",
       "      <td>Walt Disney’s Full-Length Animated Classics | ...</td>\n",
       "      <td>0</td>\n",
       "    </tr>\n",
       "    <tr>\n",
       "      <th>96</th>\n",
       "      <td>Harry Potter Saga | J.K. Rowling Adaptations</td>\n",
       "      <td>0</td>\n",
       "    </tr>\n",
       "    <tr>\n",
       "      <th>97</th>\n",
       "      <td>Despite the tumor-shrinking medical miracle th...</td>\n",
       "      <td>0</td>\n",
       "    </tr>\n",
       "    <tr>\n",
       "      <th>98</th>\n",
       "      <td>The monster does not come walking often. This ...</td>\n",
       "      <td>0</td>\n",
       "    </tr>\n",
       "  </tbody>\n",
       "</table>\n",
       "<p>99 rows × 2 columns</p>\n",
       "</div>"
      ],
      "text/plain": [
       "                                             sinopsis  sentimiento\n",
       "0   Guido - a charming but bumbling waiter who's g...            0\n",
       "1   Oskar Schindler is a German businessman in Pol...            0\n",
       "2   Despite Forrest's (Tom Hanks) low IQ, he is no...            0\n",
       "3   After winning a trip on the Titanic during a d...            0\n",
       "4   A young boy named Salvatore in a small Italian...            0\n",
       "..                                                ...          ...\n",
       "94  Based on the book \"Out of Africa\" by Danish wr...            0\n",
       "95  Walt Disney’s Full-Length Animated Classics | ...            0\n",
       "96       Harry Potter Saga | J.K. Rowling Adaptations            0\n",
       "97  Despite the tumor-shrinking medical miracle th...            0\n",
       "98  The monster does not come walking often. This ...            0\n",
       "\n",
       "[99 rows x 2 columns]"
      ]
     },
     "execution_count": 45,
     "metadata": {},
     "output_type": "execute_result"
    }
   ],
   "source": [
    "sinopsis_2"
   ]
  },
  {
   "cell_type": "code",
   "execution_count": 47,
   "metadata": {},
   "outputs": [
    {
     "data": {
      "text/html": [
       "<div>\n",
       "<style scoped>\n",
       "    .dataframe tbody tr th:only-of-type {\n",
       "        vertical-align: middle;\n",
       "    }\n",
       "\n",
       "    .dataframe tbody tr th {\n",
       "        vertical-align: top;\n",
       "    }\n",
       "\n",
       "    .dataframe thead th {\n",
       "        text-align: right;\n",
       "    }\n",
       "</style>\n",
       "<table border=\"1\" class=\"dataframe\">\n",
       "  <thead>\n",
       "    <tr style=\"text-align: right;\">\n",
       "      <th></th>\n",
       "      <th>sinopsis</th>\n",
       "      <th>sentimiento</th>\n",
       "    </tr>\n",
       "  </thead>\n",
       "  <tbody>\n",
       "    <tr>\n",
       "      <th>0</th>\n",
       "      <td>Monty Python</td>\n",
       "      <td>1</td>\n",
       "    </tr>\n",
       "    <tr>\n",
       "      <th>1</th>\n",
       "      <td>Hangover</td>\n",
       "      <td>1</td>\n",
       "    </tr>\n",
       "    <tr>\n",
       "      <th>2</th>\n",
       "      <td>Ben Stiller plays a 30-something loser-in-love...</td>\n",
       "      <td>1</td>\n",
       "    </tr>\n",
       "    <tr>\n",
       "      <th>3</th>\n",
       "      <td>The quintessential movie spoof that spawned an...</td>\n",
       "      <td>1</td>\n",
       "    </tr>\n",
       "    <tr>\n",
       "      <th>4</th>\n",
       "      <td>When \"The Dude\" Lebowski is mistaken for a mil...</td>\n",
       "      <td>1</td>\n",
       "    </tr>\n",
       "    <tr>\n",
       "      <th>...</th>\n",
       "      <td>...</td>\n",
       "      <td>...</td>\n",
       "    </tr>\n",
       "    <tr>\n",
       "      <th>94</th>\n",
       "      <td>Based on the book \"Out of Africa\" by Danish wr...</td>\n",
       "      <td>0</td>\n",
       "    </tr>\n",
       "    <tr>\n",
       "      <th>95</th>\n",
       "      <td>Walt Disney’s Full-Length Animated Classics | ...</td>\n",
       "      <td>0</td>\n",
       "    </tr>\n",
       "    <tr>\n",
       "      <th>96</th>\n",
       "      <td>Harry Potter Saga | J.K. Rowling Adaptations</td>\n",
       "      <td>0</td>\n",
       "    </tr>\n",
       "    <tr>\n",
       "      <th>97</th>\n",
       "      <td>Despite the tumor-shrinking medical miracle th...</td>\n",
       "      <td>0</td>\n",
       "    </tr>\n",
       "    <tr>\n",
       "      <th>98</th>\n",
       "      <td>The monster does not come walking often. This ...</td>\n",
       "      <td>0</td>\n",
       "    </tr>\n",
       "  </tbody>\n",
       "</table>\n",
       "<p>192 rows × 2 columns</p>\n",
       "</div>"
      ],
      "text/plain": [
       "                                             sinopsis  sentimiento\n",
       "0                                        Monty Python            1\n",
       "1                                            Hangover            1\n",
       "2   Ben Stiller plays a 30-something loser-in-love...            1\n",
       "3   The quintessential movie spoof that spawned an...            1\n",
       "4   When \"The Dude\" Lebowski is mistaken for a mil...            1\n",
       "..                                                ...          ...\n",
       "94  Based on the book \"Out of Africa\" by Danish wr...            0\n",
       "95  Walt Disney’s Full-Length Animated Classics | ...            0\n",
       "96       Harry Potter Saga | J.K. Rowling Adaptations            0\n",
       "97  Despite the tumor-shrinking medical miracle th...            0\n",
       "98  The monster does not come walking often. This ...            0\n",
       "\n",
       "[192 rows x 2 columns]"
      ]
     },
     "execution_count": 47,
     "metadata": {},
     "output_type": "execute_result"
    }
   ],
   "source": [
    "sinopsis_sent = pd.concat([sinopsis_1, sinopsis_2], axis= 0)\n",
    "sinopsis_sent"
   ]
  },
  {
   "cell_type": "code",
   "execution_count": 48,
   "metadata": {},
   "outputs": [],
   "source": [
    "#Guardamos pickle\n",
    "\n",
    "with open('sentimientos.pcikle', 'wb') as sentimientos:\n",
    "    pickle.dump(sinopsis_sent, sentimientos)"
   ]
  },
  {
   "cell_type": "code",
   "execution_count": null,
   "metadata": {},
   "outputs": [],
   "source": [
    "with open('sentimientos.pickle', 'rb') as sentimientos:\n",
    "    sinopsis_sent = pickle.load(sentimientos)"
   ]
  },
  {
   "cell_type": "code",
   "execution_count": null,
   "metadata": {},
   "outputs": [],
   "source": [
    "#Guardamos pickle\n",
    "\n",
    "with open('divertidas.pcikle', 'wb') as divertidas:\n",
    "    pickle.dump(sinopsis_divertidas, divertidas)\n",
    "    \n",
    "    "
   ]
  },
  {
   "cell_type": "code",
   "execution_count": null,
   "metadata": {},
   "outputs": [],
   "source": [
    "#Cargar pickle\n",
    "\n",
    "with open('divertidas.pcikle', 'rb') as divertidas:\n",
    "    sinnopsis_divertidas = pickle.load(divertidas)"
   ]
  }
 ],
 "metadata": {
  "kernelspec": {
   "display_name": "Python 3",
   "language": "python",
   "name": "python3"
  },
  "language_info": {
   "codemirror_mode": {
    "name": "ipython",
    "version": 3
   },
   "file_extension": ".py",
   "mimetype": "text/x-python",
   "name": "python",
   "nbconvert_exporter": "python",
   "pygments_lexer": "ipython3",
   "version": "3.8.5"
  }
 },
 "nbformat": 4,
 "nbformat_minor": 4
}
